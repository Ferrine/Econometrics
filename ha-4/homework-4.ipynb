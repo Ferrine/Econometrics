{
 "cells": [
  {
   "cell_type": "code",
   "execution_count": 2,
   "metadata": {
    "collapsed": false
   },
   "outputs": [],
   "source": [
    "%matplotlib inline\n",
    "import matplotlib.pyplot as plt\n",
    "import theano\n",
    "import theano.tensor as T\n",
    "import numpy as np\n",
    "import numpy.random as rnd\n",
    "from sklearn.linear_model import LinearRegression, LassoCV"
   ]
  },
  {
   "cell_type": "code",
   "execution_count": 3,
   "metadata": {
    "collapsed": true
   },
   "outputs": [],
   "source": [
    "# (1)\n",
    "n = 1000\n",
    "p = 500\n",
    "s1 = s2 = 10\n",
    "X0 = rnd.normal(size=(n, p))"
   ]
  },
  {
   "cell_type": "code",
   "execution_count": 4,
   "metadata": {
    "collapsed": true
   },
   "outputs": [],
   "source": [
    "# (2)\n",
    "U0 = rnd.normal(size=(p, p))\n",
    "Sigma = U0*U0.T\n",
    "U, V, D = np.linalg.svd(Sigma, full_matrices=True)\n",
    "V_ = np.sqrt(V)\n",
    "X = np.dot(X0, U) * np.dot(V_, D)\n",
    "# do not forget to comment"
   ]
  },
  {
   "cell_type": "code",
   "execution_count": 5,
   "metadata": {
    "collapsed": false
   },
   "outputs": [],
   "source": [
    "# (3)\n",
    "mu1 = 5\n",
    "sig1 = np.sqrt(2)\n",
    "b1 = rnd.normal(mu1, sig1, size=(s1,))"
   ]
  },
  {
   "cell_type": "code",
   "execution_count": 6,
   "metadata": {
    "collapsed": false
   },
   "outputs": [],
   "source": [
    "# (4)\n",
    "mu2 = 3\n",
    "sig2 = 1\n",
    "b2 = rnd.normal(mu1, sig1, size=(s2,))"
   ]
  },
  {
   "cell_type": "code",
   "execution_count": 7,
   "metadata": {
    "collapsed": false
   },
   "outputs": [],
   "source": [
    "# (5)\n",
    "# Создаю переменную, которую буду подгонять\n",
    "_j = theano.shared(rnd.randn(n), name=\"j\")\n",
    "\n",
    "# Создаю переменные, которые будут входными параметрами функции\n",
    "_X = T.matrix(\"X\")\n",
    "_b = T.vector(\"b\")\n",
    "\n",
    "# Это будет переменной, которая отправляется в сигмоид для вычисления пи\n",
    "_inp = _j + T.dot(_X, _b)\n",
    "\n",
    "# поэлементно считаем сигму, считаем пи\n",
    "_pi, _ = theano.scan(lambda v: T.exp(v) / (1 + T.exp(v)), sequences=_inp)\n",
    "\n",
    "# Чтобы подогнать j, надо задать функцию потерь\n",
    "_cost = (T.sum(_pi)/n - 0.5)**2\n",
    "\n",
    "# ...и узнать градиент\n",
    "_gj = T.grad(_cost, _j)\n",
    "\n",
    "# на каждом шаге будем обновлять j против градиента\n",
    "_train = theano.function([_X, _b], [_cost], updates=[(_j, _j - 0.0001*_gj)])\n",
    "\n",
    "pi = theano.function([_X, _b], [_pi])"
   ]
  },
  {
   "cell_type": "code",
   "execution_count": 8,
   "metadata": {
    "collapsed": false
   },
   "outputs": [
    {
     "name": "stdout",
     "output_type": "stream",
     "text": [
      "The output file is available at pics/cost_func.png\n"
     ]
    }
   ],
   "source": [
    "theano.printing.pydotprint(_cost, outfile=\"pics/cost_func.png\", var_with_name_simple=True)"
   ]
  },
  {
   "cell_type": "code",
   "execution_count": 9,
   "metadata": {
    "collapsed": false
   },
   "outputs": [
    {
     "data": {
      "image/png": "[encoded data removed]",
      "text/plain": [
       "<matplotlib.figure.Figure at 0x23af368e198>"
      ]
     },
     "metadata": {},
     "output_type": "display_data"
    },
    {
     "name": "stdout",
     "output_type": "stream",
     "text": [
      "target sum(pi)/n =  0.480783825232\n"
     ]
    }
   ],
   "source": [
    "X2 = X[:, np.random.choice(X.shape[1], s2)]\n",
    "steps = 100000\n",
    "cost_path = []\n",
    "for i in range(steps):\n",
    "    cost_path.append(_train(X2, b2))\n",
    "plt.plot(range(steps), cost_path)\n",
    "plt.xscale(\"log\")\n",
    "plt.show()\n",
    "print(\"target sum(pi)/n = \", np.sum(pi(X2, b2))/n)"
   ]
  },
  {
   "cell_type": "code",
   "execution_count": 10,
   "metadata": {
    "collapsed": false
   },
   "outputs": [
    {
     "name": "stdout",
     "output_type": "stream",
     "text": [
      "69.7890867606\n"
     ]
    }
   ],
   "source": [
    "# (6)\n",
    "ber = np.vectorize(lambda p: rnd.binomial(1, p))\n",
    "D = ber(pi(X2, b2)[0])\n",
    "alpha = 5\n",
    "Xf = np.vstack((D, X2.T)).T\n",
    "ab = np.hstack((alpha, b2))\n",
    "s = (ab.T @ Xf.T @ Xf @ ab)/n\n",
    "sigma = np.sqrt(0.3*s)\n",
    "print(sigma)"
   ]
  },
  {
   "cell_type": "code",
   "execution_count": 11,
   "metadata": {
    "collapsed": false
   },
   "outputs": [
    {
     "name": "stdout",
     "output_type": "stream",
     "text": [
      "(1000,)\n"
     ]
    }
   ],
   "source": [
    "# (7)\n",
    "X1 = X[:, np.random.choice(X.shape[1], s1)]\n",
    "Y = alpha*D + X1 @ b1 + rnd.normal(0, sigma)\n",
    "print(Y.shape)"
   ]
  },
  {
   "cell_type": "markdown",
   "metadata": {},
   "source": [
    "comment"
   ]
  },
  {
   "cell_type": "code",
   "execution_count": 12,
   "metadata": {
    "collapsed": false
   },
   "outputs": [
    {
     "name": "stdout",
     "output_type": "stream",
     "text": [
      "coef from regression =  [-2.08466361] \n",
      " coef true =  5\n"
     ]
    }
   ],
   "source": [
    "# (b)\n",
    "linreg = LinearRegression()\n",
    "linreg.fit(np.matrix(D).T, Y)\n",
    "print(\"coef from regression = \", linreg.coef_, \"\\n coef true = \", alpha)"
   ]
  },
  {
   "cell_type": "code",
   "execution_count": 29,
   "metadata": {
    "collapsed": false
   },
   "outputs": [
    {
     "name": "stdout",
     "output_type": "stream",
     "text": [
      "coef from regression =  5.0 \n",
      " coef true =  5\n"
     ]
    }
   ],
   "source": [
    "# (c)\n",
    "Xl = np.vstack((D, X.T)).T\n",
    "linreg_full = LinearRegression()\n",
    "linreg.fit(Xl, Y)\n",
    "print(\"coef from regression = \", linreg.coef_[0], \"\\n coef true = \", alpha)"
   ]
  },
  {
   "cell_type": "code",
   "execution_count": 40,
   "metadata": {
    "collapsed": true
   },
   "outputs": [],
   "source": [
    "class TwoStageLasso():\n",
    "    def fit(self, X, target, y):\n",
    "        first = LassoCV(cv=10)\n",
    "        first.fit(X, target)\n",
    "        nonzero_one = first.coef_ != 0\n",
    "        second = LassoCV(cv=10)\n",
    "        second.fit(X, y)\n",
    "        nonzero_two = second.coef_ != 0\n",
    "        self.nonzero = nonzero_one | nonzero_two\n",
    "        Xl = np.vstack((target, X[:, self.nonzero].T)).T\n",
    "        model = LinearRegression()        \n",
    "        model.fit(Xl, y)\n",
    "        self.coef_ = model.coef_"
   ]
  },
  {
   "cell_type": "code",
   "execution_count": 41,
   "metadata": {
    "collapsed": false
   },
   "outputs": [
    {
     "name": "stdout",
     "output_type": "stream",
     "text": [
      "coef from regression =  4.94506157041 \n",
      " coef true =  5\n"
     ]
    }
   ],
   "source": [
    "ts = TwoStageLasso()\n",
    "ts.fit(X, D, Y)\n",
    "print(\"coef from regression = \", ts.coef_[0], \"\\n coef true = \", alpha)"
   ]
  },
  {
   "cell_type": "code",
   "execution_count": null,
   "metadata": {
    "collapsed": true
   },
   "outputs": [],
   "source": []
  }
 ],
 "metadata": {
  "kernelspec": {
   "display_name": "Python 3",
   "language": "python",
   "name": "python3"
  },
  "language_info": {
   "codemirror_mode": {
    "name": "ipython",
    "version": 3
   },
   "file_extension": ".py",
   "mimetype": "text/x-python",
   "name": "python",
   "nbconvert_exporter": "python",
   "pygments_lexer": "ipython3",
   "version": "3.5.1"
  }
 },
 "nbformat": 4,
 "nbformat_minor": 0
}
