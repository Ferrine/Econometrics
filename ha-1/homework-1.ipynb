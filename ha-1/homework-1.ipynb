{
 "cells": [
  {
   "cell_type": "markdown",
   "metadata": {},
   "source": [
    "# Home Assignment 1\n",
    "**Valeria Ryanova(э506) & Kochurov Maxim(э201)**"
   ]
  },
  {
   "cell_type": "code",
   "execution_count": 1,
   "metadata": {
    "collapsed": true
   },
   "outputs": [],
   "source": [
    "%matplotlib inline\n",
    "import warnings\n",
    "import numpy as np\n",
    "import pandas as pd\n",
    "import scipy as sp\n",
    "import numpy.linalg as linal\n",
    "import sklearn\n",
    "from sklearn import cross_validation, linear_model\n",
    "from sklearn.metrics import mean_squared_error\n",
    "from sklearn.cross_validation import train_test_split\n",
    "import matplotlib.pyplot as plt\n",
    "import matplotlib\n",
    "from numpy import random\n",
    "import numpy as np\n",
    "from scipy.stats import beta\n",
    "warnings.filterwarnings('ignore')"
   ]
  },
  {
   "cell_type": "markdown",
   "metadata": {},
   "source": [
    "## Problem 1"
   ]
  },
  {
   "cell_type": "markdown",
   "metadata": {},
   "source": [
    "Consider setup from the first lecture: we have N numbers $Y = {y1,\\cdots, yN }$\n",
    "and observe n of them $\\tilde{Y} = {yI(1),\\cdots, yI(n)}$. Our goal is to say something\n",
    "about $ \\mu=\\frac{1}{N}\\sum_{i=1}^{N}y_i $. We know that all the numbers belong to $[0, 100]$."
   ]
  },
  {
   "cell_type": "code",
   "execution_count": 2,
   "metadata": {
    "collapsed": false
   },
   "outputs": [
    {
     "name": "stdout",
     "output_type": "stream",
     "text": [
      "48.9468884436\n"
     ]
    }
   ],
   "source": [
    "# a)\n",
    "tests = 1000\n",
    "N = 100\n",
    "n = 20\n",
    "a = 0\n",
    "b = 100 \n",
    "Y = random.uniform(a, b, N)\n",
    "tY = Y[:n]\n",
    "mu = np.mean(Y)\n",
    "print(mu)"
   ]
  },
  {
   "cell_type": "code",
   "execution_count": 3,
   "metadata": {
    "collapsed": false
   },
   "outputs": [
    {
     "name": "stdout",
     "output_type": "stream",
     "text": [
      "[11.582838017502681, 91.582838017502681]  with mean =  51.5828380175\n"
     ]
    }
   ],
   "source": [
    "# b)\n",
    "mu_hat = np.mean(tY)\n",
    "var_hat = np.var(tY)\n",
    "worse_case_interval = [mu_hat - (N-n)/N*(mu_hat - a), mu_hat + (N-n)/N*(b - mu_hat)]\n",
    "print(worse_case_interval, \" with mean = \" ,np.mean(worse_case_interval))"
   ]
  },
  {
   "cell_type": "markdown",
   "metadata": {},
   "source": [
    "`c)` We can compute statistics knowing all for beta distribution:\n",
    "\n",
    "$mean(100*Beta(2,2)) = 50$ \n",
    "\n",
    "$var(100*Beta(2,2)) = 10000*\\frac{2*2}{(2+2)^2(2+2+1)} = 500$"
   ]
  },
  {
   "cell_type": "code",
   "execution_count": 4,
   "metadata": {
    "collapsed": false
   },
   "outputs": [
    {
     "name": "stdout",
     "output_type": "stream",
     "text": [
      "mu variance =  4.25651946337\n",
      "interval:  [47.456571199483008, 55.709104835522353]\n",
      "probability that mu is in interval is 0.957000\n",
      "standart error of this answer =  0.00641490451994\n"
     ]
    }
   ],
   "source": [
    "mean_theor = n/N*mu_hat + (N-n)/N*50\n",
    "means = list()\n",
    "for i in range(tests):\n",
    "    count = 100*random.beta(2, 2, N-n).mean()\n",
    "    test_mean = mu_hat*n/N + count*(N-n)/N\n",
    "    means.append(test_mean)\n",
    "mu_var_theor = np.var(means)\n",
    "left = mean_theor - 2*np.sqrt(mu_var_theor) \n",
    "right = mean_theor + 2*np.sqrt(mu_var_theor)\n",
    "p=0\n",
    "for i in range(tests):\n",
    "    count = 100*random.beta(2, 2, N-n).mean()\n",
    "    test_mean = mu_hat*n/N + count*(N-n)/N\n",
    "    p += left < test_mean < right\n",
    "p = p/tests\n",
    "sderr = np.sqrt(p*(1-p)/tests)\n",
    "print(\"mu variance = \", mu_var_theor)\n",
    "print(\"interval: \", [left, right])\n",
    "print(\"probability that mu is in interval is %f\" % p)\n",
    "print(\"standart error of this answer = \", sderr)\n",
    "\n"
   ]
  },
  {
   "cell_type": "code",
   "execution_count": 5,
   "metadata": {
    "collapsed": false
   },
   "outputs": [
    {
     "name": "stdout",
     "output_type": "stream",
     "text": [
      "probabilities for these three models:  [ 0.01014236  0.77486317  0.21499447]\n"
     ]
    }
   ],
   "source": [
    "# d)\n",
    "m = [lambda x: beta.pdf(x/b, 0.5, 0.5), \n",
    "     lambda x: beta.pdf(x/b, 1, 1), \n",
    "     lambda x: beta.pdf(x/b, 2, 2)]\n",
    "likelihood = np.array([[m[0](x), m[1](x), m[2](x)] for x in tY])\n",
    "probas = np.prod(likelihood, axis=0)/np.sum(np.prod(likelihood, axis=0))\n",
    "print(\"probabilities for these three models: \", probas)"
   ]
  },
  {
   "cell_type": "code",
   "execution_count": 6,
   "metadata": {
    "collapsed": false
   },
   "outputs": [
    {
     "name": "stdout",
     "output_type": "stream",
     "text": [
      "[{'var': 1250.0, 'mean': 50.0}, {'var': 833.3333333333333, 'mean': 50.0}, {'var': 500.0, 'mean': 50.0}]\n",
      "var_theor = 5.786645065893269, mean_theor = 51.58283801750268\n",
      "interval:  [46.771748716359639, 56.393927318645723]\n",
      "probability that mu is in interval is 0.934000\n",
      "standart error of this answer =  0.00785136930732\n"
     ]
    }
   ],
   "source": [
    "# estimating mu\n",
    "def beta_stats(a, b):\n",
    "    return {\"mean\": a/(a+b)*100, \"var\": (a*b)/(a+b)**2/(a+b+1)*10000}\n",
    "stats = [beta_stats(a[0], a[1]) for a in [(0.5, 0.5), (1, 1), (2, 2)]]\n",
    "mu_cumulate = 0\n",
    "var_cumulate = 0\n",
    "\n",
    "mean_theor = n/N*mu_hat + (N-n)/N*(stats[0][\"mean\"]*probas[0] + stats[1][\"mean\"]*probas[1] + stats[2][\"mean\"]*probas[2])\n",
    "means = list()\n",
    "for i in range(100):\n",
    "    count = 0\n",
    "    for i in range(N-n):\n",
    "        num = random.choice([0.5, 1 , 2], p=probas)\n",
    "        count += 100*random.beta(num, num)\n",
    "    test_mean = n/N*mu_hat + count/N\n",
    "    means.append(test_mean)\n",
    "mu_var_theor = np.var(means)\n",
    "left = mean_theor - 2*np.sqrt(mu_var_theor) \n",
    "right = mean_theor + 2*np.sqrt(mu_var_theor)\n",
    "p = 0\n",
    "for i in range(tests):\n",
    "    count = 0\n",
    "    for i in range(N-n):\n",
    "        num = random.choice([0.5, 1 , 2], p=probas)\n",
    "        count += 100*random.beta(num, num)\n",
    "    test_mean = n/N*mu_hat + count/N\n",
    "    p += left < test_mean < right\n",
    "p = p/tests\n",
    "sderr = np.sqrt(p*(1-p)/tests)\n",
    "print(stats, \"var_theor = {0}, mean_theor = {1}\".format(mu_var_theor, mean_theor), sep =\"\\n\")\n",
    "print(\"interval: \", [left, right])\n",
    "print(\"probability that mu is in interval is %f\" % p)\n",
    "print(\"standart error of this answer = \", sderr)"
   ]
  },
  {
   "cell_type": "markdown",
   "metadata": {},
   "source": [
    "## Problem 2"
   ]
  },
  {
   "cell_type": "markdown",
   "metadata": {
    "collapsed": true
   },
   "source": [
    "\n",
    "# а) здесь был красивый график\n",
    "\n",
    "## b)\n",
    "Take the fact that $f(X) := E[Y \\mid X] = {argmin}_{h\\in F}E[(Y − h(X))^2]$ as given and prove that $E[(Y − f(X))g(X)] = 0$ for any function $g$\n",
    "\n",
    "### Solution\n",
    "\n",
    "* First of all we prove the fact $E[Y-f(X)]=0$\n",
    "\n",
    "\n",
    "$$E[Y-f(X)] = E[ E[Y-f(X)] \\mid X] = E[E[Y \\mid X] - f(X)] =\\\\\n",
    "E[f(x) - f(x)]=0$$\n",
    "\n",
    "* Then we evaluate $E[[Y-f(X)]g(X)]$\n",
    "\n",
    "$$ E[[Y-f(X)]g(X)] = E[Y-f(X)]E[g(X)] + cov(Y-f(X),g(x))=\\\\\n",
    "                    cov(Y-f(X),g(x))\\\\$$\n",
    "\n",
    "* We can see that only covariance is left, we want it to be zero\n",
    "\n",
    "$cov(Y-f(X),g(x)) = \\\\\n",
    "= E[[Y-f(X)][f(X)-g(X)]] \\\\\n",
    "= E[E[[Y-f(X)][g(x)-E[g(X)]] \\mid X] ]\\\\\n",
    "= E[[E(Y|X)-f(X)][g(x)-E[g(X)]] ]\\\\\n",
    "= E[[f(x) - f(x)][g(x)-E[g(X)]] ]\\\\\n",
    "= E[0\\cdot[g(x)-E[g(X)]]] = 0$\n",
    "\n",
    "* Finally \n",
    "\n",
    "$$E[[Y-f(X)]g(X)] = E[Y-f(X)]E[g(X)] + cov(Y-f(X),g(x))= 0+0=0$$"
   ]
  },
  {
   "cell_type": "markdown",
   "metadata": {},
   "source": [
    "## c)\n",
    "Prove that for any set of functions $G, g(X) := {argmin}_{h\\in G}(E[(Y - 􀀀h(X))^2]$ also solves the problem ${min}_{h\\in G}E[(f(X)􀀀h(X))^2]$, where $f(X) :=E[Y\\mid X].$\n",
    "### Solution\n",
    "\n",
    "* First of all we remember that proved the fact $E[Y-f(X)]=0$\n",
    "\n",
    "* As stohastic functional space can be treated as liner space. Then:\n",
    "\n",
    "$\\varepsilon(X) = g(X) + h(X)$ *Let's think that these functions exist*\n",
    "\n",
    "Such that\n",
    "\n",
    "$g(X) \\neq 0 \\in G\\\\\n",
    " h(X) \\in F\\backslash G$\n",
    "\n",
    "$D(\\varepsilon(X))=D(g(X) + h(X)) = D(g(X)) + D(h(X))$\n",
    "\n",
    "\n",
    "$\\Longrightarrow \\varepsilon`(X)=\\varepsilon(X)-g(X)$\n",
    "\n",
    "and $D(\\varepsilon`(X)) < D(\\varepsilon(X))$\n",
    "\n",
    "* But variance $D(\\varepsilon(X)) = E(\\varepsilon^2(X))$ was minimised, **contradiction**, thus $g(X) = 0$ and $\\lVert\\varepsilon\\rVert_2^2 = \\lVert h\\rVert_2^2$ that cannot be minimized more in $G$ space. \n",
    "\n",
    "* If we have $g` \\in G$ that is correlated with $\\varepsilon$ then it is possible to reduce $D(\\varepsilon(X))$ as we can split $\\varepsilon$ into two components and go to the begining of the solution. \n"
   ]
  },
  {
   "cell_type": "markdown",
   "metadata": {},
   "source": [
    "## d)\n",
    "Let $g(X) := {argmin}_{h\\in G}E[(Y 􀀀- h(X))^2]$ and let $f(X) := E[Y \\mid X]$. Let\n",
    "$\\lVert h1-h2 \\rVert_2^2 := E[(h1(X) -􀀀 h2(X))^2]$. Find reasonable conditions on G\n",
    "under which we have the following identity:\n",
    "$$ \\lVert \\hat{f} - f \\rVert_2^2 = \\lVert f -􀀀 g \\rVert_2^2 + \\lVert g 􀀀- \\hat{f} \\rVert_2^2$$\n",
    "\n",
    "### Solution\n",
    " * Let's define $\\perp$ as orthogonalization operator and $f\\perp g \\Leftrightarrow E(f(x)-E(f(x))(g(x)-E(g(x)))) = cov(f,g) = 0$\n",
    "\n",
    "$\\lVert f - \\hat{f} \\rVert_2^2 = E[(f(X) -􀀀 \\hat{f}(X))^2] = E[((f(X) - g(X)) + (g(X) -􀀀 \\hat{f}(X)))^2] = \\\\\n",
    "E[((f(X) - g(X))^2 +2(f(X) - g(X))(g(X) -􀀀 \\hat{f}(X)) + (g(X) -􀀀 \\hat{f}(X))^2]=\\\\\n",
    "E[((f(X) - g(X))^2] + 2E[(f(X) - g(X))(g(X) -􀀀 \\hat{f}(X))] + E[(g(X) -􀀀 \\hat{f}(X))^2] =\\\\\n",
    "\\lVert f - g \\rVert_2^2 + \\lVert g - \\hat{f} \\rVert_2^2 + 2E[(f(X) - g(X))]E[(g(X) -􀀀 \\hat{f}(X))] + 2cov(f-g,g-\\hat{f})$\n",
    "\n",
    "**Ok, lets discuss!**\n",
    "\n",
    "*  $cov(f-g,g-\\hat{f})$ if this covariance is zero it will be good. If $\\hat{f}=0$, then in some good functional spaces that can mean the effectiveness of our estimator g (see *(c)*). Moreover no combination of $g$ and $\\hat{f}$ is correlated with $f-g$. Thus $\\hat{f}, g \\in G \\subset L^{\\perp}, L:=\\{f-g\\}$  \n",
    "*  $E[(f(X) - g(X))]=0$ that means our estimator is unbiased. It is easy to show this fact:\n",
    "\n",
    "$E[(E[Y\\mid X] - g(X))]=0 \\Longrightarrow E[Y\\mid X] - E[g(X)]=0 \\Longrightarrow E[Y\\mid X] = E[g(X)]$\n"
   ]
  },
  {
   "cell_type": "markdown",
   "metadata": {},
   "source": [
    "### e)\n",
    "Assume that we have data vector $Y$ and matrix $X$ (n-dimensional vector\n",
    "and $n \\times p$ matrix, $p < n$. Assume that $X^{T}X = I_p$, let $\\hat{\\beta}$ be the\n",
    "OLS estimator. Prove the following:\n",
    "\n",
    "*  $X^{T}X = I_p \\Longrightarrow cov(x_i,x_j) = 0$\n",
    "\n",
    "#### 1)\n",
    "${\\hat{\\beta}}_k^{l_0} = \\{|{\\hat{\\beta}}_k^{l_0}| > \\lambda \\}\\hat{\\beta}_k$\n",
    "##### Solution\n",
    "\n",
    "*  \n"
   ]
  },
  {
   "cell_type": "markdown",
   "metadata": {},
   "source": [
    "#### 3)\n",
    "${\\hat{\\beta}}_k^{l_2} = \\frac{\\hat{\\beta}_k}{1+\\lambda}$\n",
    "##### Solution\n",
    "${\\hat{\\beta}}^{l_2} = (X^{T}X + \\lambda I_p)^{-1}X^{T}Y = \n",
    "((1+\\lambda)X^{T}X)^{-1}X^{T}Y=\n",
    "\\frac{1}{(1+\\lambda)}(X^{T}X)^{-1}X^{T}Y=\\frac{1}{(1+\\lambda)}\\hat{\\beta}$"
   ]
  },
  {
   "cell_type": "markdown",
   "metadata": {},
   "source": [
    "## Problem 3"
   ]
  },
  {
   "cell_type": "markdown",
   "metadata": {
    "collapsed": true
   },
   "source": [
    "### a)\n",
    "Assume that $\\hat{y} = Sy$ and prove that $\\sum_{i=1}^{n}{cov(y_i, \\hat{y}_i)} = trace(S)\\cdot \\sigma^2$\n",
    "#### Solution\n",
    "\n",
    "$\\left(\\begin{array}{c}\n",
    "\\hat{y}_1 \\\\\n",
    "\\vdots\\\\\n",
    "\\hat{y}_n\n",
    "\\end{array}\\right) = \n",
    "\\left(\\begin{array}{ccc}\n",
    "d_{11} &  &\\\\\n",
    "&\\ddots &\\\\\n",
    "& & d_{nn}\n",
    "\\end{array}\\right)\n",
    "\\left(\\begin{array}{c}\n",
    "y_1\\\\\n",
    "\\vdots\\\\\n",
    "y_n\n",
    "\\end{array}\\right) = \n",
    "\\left(\\begin{array}{c}\n",
    "\\sum_{i=1}^{n}{d_{1i}y_i} \\\\\n",
    "\\vdots\\\\\n",
    "\\sum_{i=1}^{n}{d_{ni}y_i}\n",
    "\\end{array}\\right)\\\\\n",
    "\\Longrightarrow \\hat{y}_i=\\sum_{j=1}^{n}{d_{ji}y_i}$\n",
    "\n",
    "In linear equation we can easily take covariance\n",
    "\n",
    "$\n",
    "cov(y_i, \\hat{y}_i) = d_i\\cdot \\sigma^2\\\\\n",
    "\\sum_{i=1}^{n}{cov(y_i, \\hat{y}_i)} = \\sum_{i=1}^{n}{d_i\\cdot \\sigma^2} = trace(S)\\cdot \\sigma^2\n",
    "$"
   ]
  },
  {
   "cell_type": "markdown",
   "metadata": {},
   "source": [
    "### b)\n",
    "Assume that we are using linear fitting procedure: $\\hat{y} = Sy$. Let $\\hat{y}^{(i)}=S^{(i)}y^{(i)}$ be the results of this procedure if we drop $i-th$ observation."
   ]
  },
  {
   "cell_type": "markdown",
   "metadata": {},
   "source": [
    "#### 1)\n",
    "Assume that $\\hat{y}^{(i)}_{i} = S_{ii}\\hat{y}^{(i)}_{i} + \\sum_{j\\neq i}{S_{ij} y_{j}}$ and prove that $y_{i} − \\hat{y}^{(i)}_{i} =\\frac{y_{i}−\\hat{y}_{i}}{1−S_{ii}}$. Explain why this is useful for LOOCV.\n",
    "##### Solution\n",
    "$\\hat{y}^{(i)}_{i} = S_{ii}\\hat{y}^{(i)}_{i} + \\sum_{j\\neq i}{S_{ij} y_{j}}\\\\\n",
    "\\Longrightarrow (1-S_{ii})\\hat{y}^{(i)}_{i} = \\sum_{j\\neq i}{S_{ij} y_{j}} + S_{ii}y_{i} - S_{ii}y_{i} = \\sum_{j=1}^{n}{S_{ij} y_{j}} - S_{ii}y_{i}\\\\\n",
    "as \\; \\sum_{j=1}^{n}{d_{ji}y_i}=\\hat{y}_i \\Longrightarrow (1-S_{ii})\\hat{y}^{(i)}_{i} = \\hat{y}_i - y_i + y_i - S_{ii}y_i = \\hat{y}_i - y_i + (1 - S_{ii})y_i\\\\\n",
    "so \\; (1 - S_{ii})(y_i - \\hat{y}^{(i)}_{i}) = y_i - \\hat{y}_i \\\\\n",
    "and \\; then \\; y_i - \\hat{y}^{(i)}_{i} = \\frac{y_i - \\hat{y}_i}{1 - S_{ii}}\n",
    "$\n",
    "\n",
    "It is cool for LOOCV as all we need is to know the diagonal os S-matrix."
   ]
  },
  {
   "cell_type": "markdown",
   "metadata": {},
   "source": [
    "#### 3)\n",
    "Prove that assumption in 1) is valid for S arising from OLS\n",
    "##### Solution ??"
   ]
  },
  {
   "cell_type": "markdown",
   "metadata": {},
   "source": [
    "#### 3)\n",
    "Prove that assumption in 1) is valid for S arising from ridge regression\n",
    "##### Solution ??"
   ]
  },
  {
   "cell_type": "markdown",
   "metadata": {},
   "source": [
    "## Problem 4"
   ]
  },
  {
   "cell_type": "code",
   "execution_count": 7,
   "metadata": {
    "collapsed": true
   },
   "outputs": [],
   "source": [
    "# We consider that if lambda is set to zero it will be simple OLS model\n",
    "\n",
    "class Ridge:\n",
    "    \n",
    "    def _W(self, lmbda):\n",
    "        return linal.inv(self.X.T * self.X + lmbda * np.eye(self.p)) * self.X.T\n",
    "    \n",
    "    def _S(self, lmbda):\n",
    "        return self.X * self._W(lmbda)\n",
    "    \n",
    "    def find_lambda(self, freedom, accuracy = 0.0001):\n",
    "        lb = (self.p - freedom) / freedom\n",
    "        eigen = linal.svd(r.X, compute_uv=False)\n",
    "        def step(): \n",
    "            return (\n",
    "                sum([d**2/(d**2 + lb)**2 for d in eigen])**(-1) *\n",
    "                (sum([d**2/(d**2 + lb) for d in eigen]) - freedom) \n",
    "               )\n",
    "        dlb = step()\n",
    "        while dlb > accuracy:\n",
    "            lb += dlb\n",
    "            dlb = step() \n",
    "        return lb\n",
    "        \n",
    "    def __init__(self):\n",
    "        self.fited =False\n",
    "        \n",
    "    def fit(self, X, y, lmbda=None, freedom=None, lmbda_accuracy = 0.0001):\n",
    "        self.X = np.matrix(X)\n",
    "        self.y = np.matrix(y).T\n",
    "        self.p = X.shape[1]\n",
    "        self.n = X.shape[0]\n",
    "        self.betas = np.zeros(self.p)\n",
    "        self.S = np.zeros([self.n,self.n])\n",
    "        if lmbda:\n",
    "            self.lmbda = lmbda\n",
    "        elif freedom:\n",
    "            self.lmbda = self.find_lambda(freedom, lmbda_accuracy)\n",
    "        else:\n",
    "            self.lmbda = 0\n",
    "        self.freedom = freedom\n",
    "        self.betas = self._W(self.lmbda) * self.y\n",
    "        self.S = self.X * self._W(self.lmbda)\n",
    "        self.fitted = True\n",
    "    \n",
    "    def predict(self, X):\n",
    "        assert self.fitted\n",
    "        return X * self.betas\n",
    "    \n",
    "    def scores(self, test_X=None, test_y=None):\n",
    "        assert self.fitted\n",
    "        if test_y is not None and test_X is not None:\n",
    "            train_prediction = self.predict(test_X)\n",
    "            mean_squar = mean_squared_error(test_y, train_prediction)\n",
    "        else:\n",
    "            train_prediction = self.predict(self.X)\n",
    "            mean_squar = mean_squared_error(self.y, train_prediction)\n",
    "        variance= mean_squar*self.n/(self.n-self.p-1)\n",
    "        loocv = np.mean([((y - y_hat)/(1-s))**2 for y, y_hat, s in zip(self.y, train_prediction.A1, self.S.diagonal().A1)])\n",
    "        Cp= np.mean([((y - y_hat))**2 for y, y_hat in zip(self.y, train_prediction.A1)]) + 2*variance*np.trace(self.S)/N\n",
    "        return {\"lambda\": self.lmbda, \n",
    "                \"freedom\": self.freedom, \n",
    "                \"loocv\": loocv, \n",
    "                \"Cp\": Cp, \n",
    "                \"mean_squared\": mean_squar,\n",
    "                \"residials variance\": variance}\n",
    "        "
   ]
  },
  {
   "cell_type": "code",
   "execution_count": 8,
   "metadata": {
    "collapsed": false
   },
   "outputs": [],
   "source": [
    "# Loading Data\n",
    "Data= pd.read_csv('ha_1.txt', sep=\"\\t\")\n",
    "scaler = sklearn.preprocessing.StandardScaler()\n",
    "\n",
    "train, test = train_test_split(Data, test_size=0.3)\n",
    "\n",
    "scaler.fit(train)\n",
    "train = scaler.transform(train)\n",
    "\n",
    "scaler.fit(test)\n",
    "test = scaler.transform(test)\n",
    "\n",
    "X_train = train[:, 1:]\n",
    "y_train = train[:, 0]\n",
    "\n",
    "X_test = test[:, 1:]\n",
    "y_test = test[:, 0]\n",
    "N= len(X_train)\n",
    "p= len(X_train.T)"
   ]
  },
  {
   "cell_type": "code",
   "execution_count": 9,
   "metadata": {
    "collapsed": false
   },
   "outputs": [
    {
     "name": "stdout",
     "output_type": "stream",
     "text": [
      "LOOCV score:  0.139413, train score  0.071062\n",
      "Residual variance: 0.099687\n"
     ]
    }
   ],
   "source": [
    "# Estimating OLS\n",
    "ols = Ridge()\n",
    "ols.fit(X_train, y_train)\n",
    "scores = ols.scores()\n",
    "print(\"LOOCV score: {0: 5f}, train score {1: 5f}\".format(scores[\"loocv\"], scores[\"mean_squared\"]))\n",
    "print (\"Residual variance: %5f\" % scores[\"residials variance\"])"
   ]
  },
  {
   "cell_type": "code",
   "execution_count": 10,
   "metadata": {
    "collapsed": false
   },
   "outputs": [],
   "source": [
    "# Estimating Ridge\n",
    "r = Ridge()\n",
    "\n",
    "lambdas = list()\n",
    "\n",
    "for i in range(200, 1, -2):\n",
    "    r.fit(X_train, y_train, freedom=i)\n",
    "    lambdas.append(r.scores())\n",
    "lbtable = pd.DataFrame.from_dict(lambdas)"
   ]
  },
  {
   "cell_type": "code",
   "execution_count": 11,
   "metadata": {
    "collapsed": false
   },
   "outputs": [
    {
     "data": {
      "image/png": "[encoded data removed]",
      "text/plain": [
       "<matplotlib.figure.Figure at 0x4b99398128>"
      ]
     },
     "metadata": {},
     "output_type": "display_data"
    }
   ],
   "source": [
    "# Making a cool plot\n",
    "lbtable.sort_values(\"freedom\", inplace=True)\n",
    "plt.plot(lbtable.ix[: ,[\"freedom\"]], lbtable.ix[: ,[\"loocv\", \"Cp\"]])\n",
    "plt.xlabel('Degrees of freedom')\n",
    "plt.ylabel('Scores')\n",
    "plt.title('LOOCV & Cp scores')\n",
    "plt.legend(labels=[\"LOOCV\", \"Cp\"])\n",
    "cpminFV = (lbtable.ix[lbtable['Cp'].idxmin(), \"freedom\"], \n",
    "           lbtable.ix[lbtable['Cp'].idxmin(), \"Cp\"])\n",
    "loocvminFV = (lbtable.ix[lbtable['loocv'].idxmin(), \"freedom\"], \n",
    "              lbtable.ix[lbtable['loocv'].idxmin(), \"loocv\"])\n",
    "\n",
    "plt.annotate('Cp min %s' % cpminFV[0] , xy=cpminFV, xytext=(cpminFV[0]+20, cpminFV[1]+0.2),\n",
    "            arrowprops=dict(facecolor='black', shrink=0.05, width=0.1, headwidth=7),\n",
    "            )\n",
    "plt.annotate('loocv min %s' % loocvminFV[0], xy=loocvminFV, xytext=(loocvminFV[0]-30, loocvminFV[1]+0.2),\n",
    "            arrowprops=dict(facecolor='black', shrink=0.05, width=0.1, headwidth=7),\n",
    "            )\n",
    "plt.show()\n",
    "plt.close()"
   ]
  },
  {
   "cell_type": "markdown",
   "metadata": {},
   "source": [
    "Cp score is tended to overestimate the quality of our model. But the more data we have the closer is Cp and LOOCV thea are assymptotically equal. It is so because of the calculation. When we have not large dataset we should use LOOCV."
   ]
  },
  {
   "cell_type": "code",
   "execution_count": 12,
   "metadata": {
    "collapsed": false
   },
   "outputs": [
    {
     "name": "stdout",
     "output_type": "stream",
     "text": [
      "Number of non-zero coefficients: 40, Number of zeros: 160\n"
     ]
    }
   ],
   "source": [
    "# Training lasso\n",
    "kf = cross_validation.KFold(N, n_folds=10, shuffle=True)\n",
    "lasso = linear_model.LassoCV(n_alphas=100, eps=0.001, max_iter=1000, cv=kf, fit_intercept=False)\n",
    "lasso.fit(X_train, y_train)\n",
    "Coef=lasso.coef_\n",
    "coeff = np.count_nonzero(Coef)\n",
    "zero=len(Coef)-coeff\n",
    "print(\"Number of non-zero coefficients: %0.0f, Number of zeros: %0.0f\" % (coeff, zero))"
   ]
  },
  {
   "cell_type": "code",
   "execution_count": 13,
   "metadata": {
    "collapsed": false
   },
   "outputs": [
    {
     "name": "stdout",
     "output_type": "stream",
     "text": [
      "."
     ]
    },
    {
     "data": {
      "image/png": "[encoded data removed]",
      "text/plain": [
       "<matplotlib.figure.Figure at 0x4b98088d68>"
      ]
     },
     "metadata": {},
     "output_type": "display_data"
    },
    {
     "data": {
      "image/png": "[encoded data removed]",
      "text/plain": [
       "<matplotlib.figure.Figure at 0x4b8f4f9a58>"
      ]
     },
     "metadata": {},
     "output_type": "display_data"
    }
   ],
   "source": [
    "# More cool plots\n",
    "alphas, _, coefs = linear_model.lars_path(X_train, y_train, method='lasso', eps=0.0001, verbose=True)\n",
    "xx = np.sum(np.abs(coefs.T), axis=1)\n",
    "xx /= xx[-1]\n",
    "plt.plot(xx, coefs.T)\n",
    "plt.xlabel('|coef| / max|coef|')\n",
    "plt.ylabel('Coefficients')\n",
    "plt.title('LASSO Path')\n",
    "plt.axis('tight')\n",
    "plt.show()\n",
    "plt.close()\n",
    "\n",
    "# Even more \n",
    "\n",
    "xx = -alphas\n",
    "plt.plot(xx, coefs.T)\n",
    "plt.xlabel('-lambda')\n",
    "plt.ylabel('Coefficients')\n",
    "plt.title('LASSO Path')\n",
    "plt.axis('tight')\n",
    "plt.show()\n",
    "plt.close()\n",
    "# The second one is not as cool as wanted"
   ]
  },
  {
   "cell_type": "code",
   "execution_count": 14,
   "metadata": {
    "collapsed": false
   },
   "outputs": [
    {
     "name": "stdout",
     "output_type": "stream",
     "text": [
      "Estimating prediction risk on train data\n",
      "OutOfTheBox Lasso:  0.092437 - mean_squared as there was some trouble with loocv for lasso\n",
      "Handmade    Ridge:  0.119916\n",
      "Handmade    OLS  :  0.139413\n"
     ]
    }
   ],
   "source": [
    "# best Ridge degree of freedom is 116\n",
    "ols = Ridge()\n",
    "ols.fit(X_train, y_train)\n",
    "ridge = Ridge()\n",
    "ridge.fit(X_train, y_train, freedom=116)\n",
    "mean_sq_err_lasso_train = mean_squared_error(lasso.predict(X_train), y_train)\n",
    "print(\"Estimating prediction risk on train data\")\n",
    "print(\"OutOfTheBox Lasso: {0: 5f} - mean_squared as there was some trouble with loocv for lasso\".format(mean_sq_err_lasso_train))\n",
    "print(\"Handmade    Ridge: {0: 5f}\".format(ridge.scores()[\"loocv\"]))\n",
    "print(\"Handmade    OLS  : {0: 5f}\".format(ols.scores()[\"loocv\"]))"
   ]
  },
  {
   "cell_type": "markdown",
   "metadata": {
    "collapsed": true
   },
   "source": [
    "Even mean squared error is better with lasso!"
   ]
  },
  {
   "cell_type": "code",
   "execution_count": 15,
   "metadata": {
    "collapsed": false
   },
   "outputs": [
    {
     "name": "stdout",
     "output_type": "stream",
     "text": [
      "Estimating prediction risk on test data\n",
      "OutOfTheBox Lasso:  0.108649\n"
     ]
    }
   ],
   "source": [
    "mean_sq_err_lasso_test = mean_squared_error(lasso.predict(X_test), y_test)\n",
    "print(\"Estimating prediction risk on test data\")\n",
    "print(\"OutOfTheBox Lasso: {0: 5f}\".format(mean_sq_err_lasso_test))"
   ]
  },
  {
   "cell_type": "markdown",
   "metadata": {},
   "source": [
    "Works fine!"
   ]
  }
 ],
 "metadata": {
  "kernelspec": {
   "display_name": "Python 3",
   "language": "python",
   "name": "python3"
  },
  "language_info": {
   "codemirror_mode": {
    "name": "ipython",
    "version": 3
   },
   "file_extension": ".py",
   "mimetype": "text/x-python",
   "name": "python",
   "nbconvert_exporter": "python",
   "pygments_lexer": "ipython3",
   "version": "3.5.1"
  }
 },
 "nbformat": 4,
 "nbformat_minor": 0
}
