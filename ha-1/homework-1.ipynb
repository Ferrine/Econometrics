{
 "cells": [
  {
   "cell_type": "markdown",
   "metadata": {},
   "source": [
    "# Домашняя работа \n",
    "Сделали Валерия Рьянова(э506) и Кочуров Максим(э201)"
   ]
  },
  {
   "cell_type": "markdown",
   "metadata": {},
   "source": [
    "## Задание 1"
   ]
  },
  {
   "cell_type": "markdown",
   "metadata": {},
   "source": [
    "Consider setup from the first lecture: we have N numbers $Y = {y1,\\cdots, yN }$\n",
    "and observe n of them $\\tilde{Y} = {yI(1),\\cdots, yI(n)}$. Our goal is to say something\n",
    "about $ \\mu=\\frac{1}{N}\\sum_{i=1}^{N}y_i $. We know that all the numbers belong to $[0, 100]$."
   ]
  },
  {
   "cell_type": "code",
   "execution_count": null,
   "metadata": {
    "collapsed": true
   },
   "outputs": [],
   "source": []
  },
  {
   "cell_type": "markdown",
   "metadata": {},
   "source": [
    "## Задание 2"
   ]
  },
  {
   "cell_type": "code",
   "execution_count": null,
   "metadata": {
    "collapsed": true
   },
   "outputs": [],
   "source": []
  },
  {
   "cell_type": "markdown",
   "metadata": {},
   "source": [
    "## Задание 3"
   ]
  },
  {
   "cell_type": "markdown",
   "metadata": {
    "collapsed": true
   },
   "source": [
    "### a)\n",
    "Assume that $\\hat{y} = Sy$ and prove that $\\sum_{i=1}^{n}{cov(y_i, \\hat{y_i})} = trace(S)$\n",
    "\n",
    "$\\left(\\begin{array}{c}\n",
    "\\hat{y_1} \\\\\n",
    "\\vdots\\\\\n",
    "\\hat{y_n}\n",
    "\\end{array}\\right) = \n",
    "\\left(\\begin{array}{ccc}\n",
    "d_{11} &  &\\\\\n",
    "&\\ddots &\\\\\n",
    "& & d_{nn}\n",
    "\\end{array}\\right)\n",
    "\\left(\\begin{array}{c}\n",
    "y_1\\\\\n",
    "\\vdots\\\\\n",
    "y_n\n",
    "\\end{array}\\right) = \n",
    "\\left(\\begin{array}{c}\n",
    "\\sum_{i=1}^{n}{d_{1i}y_i} \\\\\n",
    "\\vdots\\\\\n",
    "\\sum_{i=1}^{n}{d_{ni}y_i}\n",
    "\\end{array}\\right)\\\\\n",
    "\\Longrightarrow \\hat{y_i}=\\sum_{j=1}^{n}{d_{ji}y_i}$\n",
    "\n",
    "Поскольку связь линейна, воспользуемся свойствами ковариации\n",
    "\n",
    "$\n",
    "cov(y_i, \\hat{y_i}) = d_i\\\\\n",
    "\\sum_{i=1}^{n}{cov(y_i, \\hat{y_i})} = \\sum_{i=1}^{n}{d_i} = trace(S)\n",
    "$"
   ]
  },
  {
   "cell_type": "markdown",
   "metadata": {},
   "source": []
  },
  {
   "cell_type": "markdown",
   "metadata": {},
   "source": [
    "## Задание 4"
   ]
  },
  {
   "cell_type": "code",
   "execution_count": null,
   "metadata": {
    "collapsed": true
   },
   "outputs": [],
   "source": []
  }
 ],
 "metadata": {
  "kernelspec": {
   "display_name": "Python 3",
   "language": "python",
   "name": "python3"
  },
  "language_info": {
   "codemirror_mode": {
    "name": "ipython",
    "version": 3
   },
   "file_extension": ".py",
   "mimetype": "text/x-python",
   "name": "python",
   "nbconvert_exporter": "python",
   "pygments_lexer": "ipython3",
   "version": "3.5.1"
  }
 },
 "nbformat": 4,
 "nbformat_minor": 0
}
