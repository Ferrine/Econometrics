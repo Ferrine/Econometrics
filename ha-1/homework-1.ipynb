{
 "cells": [
  {
   "cell_type": "markdown",
   "metadata": {},
   "source": [
    "# Домашняя работа \n",
    "Сделали Валерия Рьянова(э506) и Кочуров Максим(э201)"
   ]
  },
  {
   "cell_type": "markdown",
   "metadata": {},
   "source": [
    "## Задание 1"
   ]
  },
  {
   "cell_type": "markdown",
   "metadata": {},
   "source": [
    "Consider setup from the first lecture: we have N numbers $Y = {y1,\\cdots, yN }$\n",
    "and observe n of them $\\tilde{Y} = {yI(1),\\cdots, yI(n)}$. Our goal is to say something\n",
    "about $ \\mu=\\frac{1}{N}\\sum_{i=1}^{N}y_i $. We know that all the numbers belong to $[0, 100]$."
   ]
  },
  {
   "cell_type": "code",
   "execution_count": 1,
   "metadata": {
    "collapsed": false
   },
   "outputs": [
    {
     "name": "stdout",
     "output_type": "stream",
     "text": [
      "47.1925022083\n"
     ]
    }
   ],
   "source": [
    "# a)\n",
    "from numpy import random\n",
    "import numpy as np\n",
    "N = 100\n",
    "n = 20\n",
    "a = 0\n",
    "b = 100 \n",
    "Y = random.uniform(a, b, N)\n",
    "tY = Y[:n]\n",
    "mu = np.mean(Y)\n",
    "print(mu)"
   ]
  },
  {
   "cell_type": "code",
   "execution_count": 28,
   "metadata": {
    "collapsed": false
   },
   "outputs": [
    {
     "name": "stdout",
     "output_type": "stream",
     "text": [
      "[9.2708692374613975, 89.270869237461397]  with mean =  49.2708692375\n"
     ]
    }
   ],
   "source": [
    "# b)\n",
    "mu_hat = np.mean(tY)\n",
    "worse_case_interval = [mu_hat - (N-n)/N*(mu_hat - a), mu_hat + (N-n)/N*(b - mu_hat)]\n",
    "print(worse_case_interval, \" with mean = \" ,np.mean(worse_case_interval))"
   ]
  },
  {
   "cell_type": "markdown",
   "metadata": {},
   "source": [
    "c) We can compute statistics knowing all for beta distribution:\n",
    "\n",
    "$mean(100*Beta(2,2)) = 50$ \n",
    "\n",
    "$var(100*Beta(2,2)) = 10000*\\frac{2*2}{(2+2)^2(2+2+1)} = 500$"
   ]
  },
  {
   "cell_type": "code",
   "execution_count": 39,
   "metadata": {
    "collapsed": false
   },
   "outputs": [
    {
     "name": "stdout",
     "output_type": "stream",
     "text": [
      "interval:  [2.96950857961248, 95.572229895310315]\n",
      "probability that mu is in interval is 0.995000\n"
     ]
    }
   ],
   "source": [
    "mean_theor = n/N*mu_hat + (N-n)/N*50\n",
    "var_theor = n/N*np.var(tY) + (N-n)/N*500\n",
    "left = mean_theor - 2*np.sqrt(var_theor) \n",
    "right = mean_theor + 2*np.sqrt(var_theor)\n",
    "tests = 1000\n",
    "count = 0\n",
    "for i in range(tests):\n",
    "    count += left < 100*random.beta(2, 2) < right\n",
    "p = count/tests\n",
    "print(\"interval: \", [left, right])\n",
    "print(\"probability that mu is in interval is %f\" % p)\n",
    "\n"
   ]
  },
  {
   "cell_type": "markdown",
   "metadata": {},
   "source": [
    "## Задание 2"
   ]
  },
  {
   "cell_type": "code",
   "execution_count": null,
   "metadata": {
    "collapsed": true
   },
   "outputs": [],
   "source": []
  },
  {
   "cell_type": "markdown",
   "metadata": {},
   "source": [
    "## Задание 3"
   ]
  },
  {
   "cell_type": "markdown",
   "metadata": {
    "collapsed": true
   },
   "source": [
    "### a)\n",
    "Assume that $\\hat{y} = Sy$ and prove that $\\sum_{i=1}^{n}{cov(y_i, \\hat{y}_i)} = trace(S)$\n",
    "#### Solution\n",
    "\n",
    "$\\left(\\begin{array}{c}\n",
    "\\hat{y}_1 \\\\\n",
    "\\vdots\\\\\n",
    "\\hat{y}_n\n",
    "\\end{array}\\right) = \n",
    "\\left(\\begin{array}{ccc}\n",
    "d_{11} &  &\\\\\n",
    "&\\ddots &\\\\\n",
    "& & d_{nn}\n",
    "\\end{array}\\right)\n",
    "\\left(\\begin{array}{c}\n",
    "y_1\\\\\n",
    "\\vdots\\\\\n",
    "y_n\n",
    "\\end{array}\\right) = \n",
    "\\left(\\begin{array}{c}\n",
    "\\sum_{i=1}^{n}{d_{1i}y_i} \\\\\n",
    "\\vdots\\\\\n",
    "\\sum_{i=1}^{n}{d_{ni}y_i}\n",
    "\\end{array}\\right)\\\\\n",
    "\\Longrightarrow \\hat{y}_i=\\sum_{j=1}^{n}{d_{ji}y_i}$\n",
    "\n",
    "Поскольку связь линейна, воспользуемся свойствами ковариации\n",
    "\n",
    "$\n",
    "cov(y_i, \\hat{y}_i) = d_i\\\\\n",
    "\\sum_{i=1}^{n}{cov(y_i, \\hat{y}_i)} = \\sum_{i=1}^{n}{d_i} = trace(S)\n",
    "$"
   ]
  },
  {
   "cell_type": "markdown",
   "metadata": {},
   "source": [
    "### b)\n",
    "Assume that we are using linear fitting procedure: $\\hat{y} = Sy$. Let $\\hat{y}^{(i)}=S^{(i)}y^{(i)}$ be the results of this procedure if we drop $i-th$ observation."
   ]
  },
  {
   "cell_type": "markdown",
   "metadata": {},
   "source": [
    "#### 1)\n",
    "Assume that $\\hat{y}^{(i)}_{i} = S_{ii}\\hat{y}^{(i)}_{i} + \\sum_{j\\neq i}{S_{ij} y_{j}}$ and prove that $y_{i} − \\hat{y}^{(i)}_{i} =\\frac{y_{i}−\\hat{y}_{i}}{1−S_{ii}}$. Explain why this is useful for LOOCV.\n",
    "##### Solution\n",
    "$\\hat{y}^{(i)}_{i} = S_{ii}\\hat{y}^{(i)}_{i} + \\sum_{j\\neq i}{S_{ij} y_{j}}\\\\\n",
    "\\Longrightarrow (1-S_{ii})\\hat{y}^{(i)}_{i} = \\sum_{j\\neq i}{S_{ij} y_{j}} + S_{ii}y_{i} - S_{ii}y_{i} = \\sum_{j=1}^{n}{S_{ij} y_{j}} - S_{ii}y_{i}\\\\\n",
    "as \\; \\sum_{j=1}^{n}{d_{ji}y_i}=\\hat{y}_i \\Longrightarrow (1-S_{ii})\\hat{y}^{(i)}_{i} = \\hat{y}_i - y_i + y_i - S_{ii}y_i = \\hat{y}_i - y_i + (1 - S_{ii})y_i\\\\\n",
    "so \\; (1 - S_{ii})(y_i - \\hat{y}^{(i)}_{i}) = y_i - \\hat{y}_i \\\\\n",
    "and \\; then \\; y_i - \\hat{y}^{(i)}_{i} = \\frac{y_i - \\hat{y}_i}{1 - S_{ii}}\n",
    "$\n",
    "\n",
    "Для LOOCV это круто, потому что нам необходимо лишь знать диагональ матрицы S, чтобы оценивать несмещенный риск."
   ]
  },
  {
   "cell_type": "markdown",
   "metadata": {},
   "source": [
    "#### 3)\n",
    "Prove that assumption in 1) is valid for S arising from OLS\n",
    "##### Solution ??"
   ]
  },
  {
   "cell_type": "markdown",
   "metadata": {},
   "source": [
    "#### 3)\n",
    "Prove that assumption in 1) is valid for S arising from ridge regression\n",
    "##### Solution ??"
   ]
  },
  {
   "cell_type": "markdown",
   "metadata": {},
   "source": [
    "## Задание 4"
   ]
  },
  {
   "cell_type": "code",
   "execution_count": null,
   "metadata": {
    "collapsed": true
   },
   "outputs": [],
   "source": []
  }
 ],
 "metadata": {
  "kernelspec": {
   "display_name": "Python 3",
   "language": "python",
   "name": "python3"
  },
  "language_info": {
   "codemirror_mode": {
    "name": "ipython",
    "version": 3
   },
   "file_extension": ".py",
   "mimetype": "text/x-python",
   "name": "python",
   "nbconvert_exporter": "python",
   "pygments_lexer": "ipython3",
   "version": "3.5.1"
  }
 },
 "nbformat": 4,
 "nbformat_minor": 0
}
